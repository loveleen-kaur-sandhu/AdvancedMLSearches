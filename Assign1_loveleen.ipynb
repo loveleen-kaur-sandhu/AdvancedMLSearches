{
 "cells": [
  {
   "attachments": {},
   "cell_type": "markdown",
   "metadata": {},
   "source": [
    "# ACS3930 Assignment 1\n",
    "\n",
    "Based on the given classes and functions, finish the three questions marked in red. Leave comments to explain your code. I will grade your assignment based on the completeness of your code and the clarity of the comments. \n",
    "\n",
    "Have fun with your Assignment 1!\n",
    "\n",
    "Your name:Loveleen Kaur\n",
    "\n"
   ]
  },
  {
   "cell_type": "code",
   "execution_count": 142,
   "metadata": {},
   "outputs": [],
   "source": [
    "%matplotlib inline\n",
    "import matplotlib.pyplot as plt\n",
    "import random\n",
    "import heapq\n",
    "import math\n",
    "import sys\n",
    "from collections import defaultdict, deque, Counter\n",
    "from itertools import combinations\n",
    "import copy"
   ]
  },
  {
   "cell_type": "markdown",
   "metadata": {},
   "source": [
    "# Problem class"
   ]
  },
  {
   "cell_type": "code",
   "execution_count": 143,
   "metadata": {},
   "outputs": [],
   "source": [
    "class Problem(object):\n",
    "    \"\"\"The abstract class for a formal problem. A new domain subclasses this,\n",
    "    overriding `actions` and `results`, and perhaps other methods.\n",
    "    The default heuristic is 0 and the default action cost is 1 for all states.\n",
    "    When yiou create an instance of a subclass, specify `initial`, and `goal` states \n",
    "    (or give an `is_goal` method) and perhaps other keyword args for the subclass.\"\"\"\n",
    "\n",
    "    def __init__(self, initial=None, goal=None, **kwds): \n",
    "        self.__dict__.update(initial=initial, goal=goal, **kwds) \n",
    "        \n",
    "    def actions(self, state):        raise NotImplementedError\n",
    "    def result(self, state, action): raise NotImplementedError\n",
    "    def is_goal(self, state):        return state == self.goal\n",
    "    def action_cost(self, s, a, s1): return 1\n",
    "    def h(self, node):               return 0\n",
    "    \n",
    "    def __str__(self):\n",
    "        return '{}({!r}, {!r})'.format(\n",
    "            type(self).__name__, self.initial, self.goal)\n",
    "    \n",
    "\n",
    "class Node:\n",
    "    \"A Node in a search tree.\"\n",
    "    def __init__(self, state, parent=None, action=None, path_cost=0):\n",
    "        self.__dict__.update(state=state, parent=parent, action=action, path_cost=path_cost)\n",
    "\n",
    "    def __repr__(self): return '<{}>'.format(self.state)\n",
    "    def __len__(self): return 0 if self.parent is None else (1 + len(self.parent))\n",
    "    def __lt__(self, other): return self.path_cost < other.path_cost\n",
    "    \n",
    "    \n",
    "failure = Node('failure', path_cost=math.inf) # Indicates an algorithm couldn't find a solution.\n",
    "cutoff  = Node('cutoff',  path_cost=math.inf) # Indicates iterative deepening search was cut off.\n",
    "    \n",
    "    \n",
    "def expand(problem, node):\n",
    "    \"Expand a node, generating the children nodes.\"\n",
    "    s = node.state\n",
    "    for action in problem.actions(s):\n",
    "        s1 = problem.result(s, action)\n",
    "        cost = node.path_cost + problem.action_cost(s, action, s1)\n",
    "        yield Node(s1, node, action, cost)\n",
    "        \n",
    "\n",
    "def path_actions(node):\n",
    "    \"The sequence of actions to get to this node.\"\n",
    "    if node.parent is None:\n",
    "        return []  \n",
    "    return path_actions(node.parent) + [node.action]\n",
    "\n",
    "\n",
    "def path_states(node):\n",
    "    \"The sequence of states to get to this node.\"\n",
    "    if node in (cutoff, failure, None): \n",
    "        return []\n",
    "    return path_states(node.parent) + [node.state]\n",
    "\n",
    "class CountCalls:\n",
    "    \"\"\"Delegate all attribute gets to the object, and count them in ._counts\"\"\"\n",
    "    def __init__(self, obj):\n",
    "        self._object = obj\n",
    "        self._counts = Counter()\n",
    "        \n",
    "    def __getattr__(self, attr):\n",
    "        \"Delegate to the original object, after incrementing a counter.\"\n",
    "        self._counts[attr] += 1\n",
    "        return getattr(self._object, attr)"
   ]
  },
  {
   "cell_type": "markdown",
   "metadata": {},
   "source": [
    "# Queues\n",
    "\n",
    "First-in-first-out and Last-in-first-out queues, and a `PriorityQueue`, which allows you to keep a collection of items, and continually remove from it the item with minimum `f(item)` score."
   ]
  },
  {
   "cell_type": "code",
   "execution_count": 144,
   "metadata": {},
   "outputs": [],
   "source": [
    "FIFOQueue = deque\n",
    "\n",
    "LIFOQueue = list\n",
    "\n",
    "class PriorityQueue:\n",
    "    \"\"\"A queue in which the item with minimum f(item) is always popped first.\"\"\"\n",
    "\n",
    "    def __init__(self, items=(), key=lambda x: x): \n",
    "        self.key = key\n",
    "        self.items = [] # a heap of (score, item) pairs\n",
    "        for item in items:\n",
    "            self.add(item)\n",
    "            \n",
    "    def empty(self):\n",
    "        \"\"\"Return True if the priority queue is empty, False otherwise.\"\"\"\n",
    "        return len(self.items) == 0\n",
    "         \n",
    "    def add(self, item):\n",
    "        \"\"\"Add item to the queuez.\"\"\"\n",
    "        pair = (self.key(item), item)\n",
    "        heapq.heappush(self.items, pair)\n",
    "\n",
    "    def pop(self):\n",
    "        \"\"\"Pop and return the item with min f(item) value.\"\"\"\n",
    "        return heapq.heappop(self.items)[1]\n",
    "    \n",
    "    def top(self): return self.items[0][1]\n",
    "\n",
    "    def __len__(self): return len(self.items)"
   ]
  },
  {
   "cell_type": "markdown",
   "metadata": {},
   "source": [
    "## <font color='red'>Q1: What are below search algorithms? name them.</font>\n"
   ]
  },
  {
   "cell_type": "code",
   "execution_count": 145,
   "metadata": {},
   "outputs": [],
   "source": [
    "# what is below search algorithm? put your answer here: \n",
    "#best-first search algorithm\n",
    "def search_1(problem, f):\n",
    "    node = Node(problem.initial)\n",
    "    frontier = PriorityQueue([node], key=f)\n",
    "    reached = {problem.initial: node}\n",
    "    while frontier:\n",
    "        node = frontier.pop()\n",
    "        if problem.is_goal(node.state):\n",
    "            return node\n",
    "        for child in expand(problem, node):\n",
    "            s = child.state\n",
    "            if s not in reached or child.path_cost < reached[s].path_cost:\n",
    "                reached[s] = child\n",
    "                frontier.add(child)\n",
    "    return failure\n"
   ]
  },
  {
   "cell_type": "code",
   "execution_count": 146,
   "metadata": {},
   "outputs": [],
   "source": [
    "# what is below search algorithm? put your answer here: \n",
    "#Best-First Search with Depth-Limited Cycle Checking\n",
    "def search_2(problem, f):\n",
    "    frontier = PriorityQueue([Node(problem.initial)], key=f)\n",
    "    while frontier:\n",
    "        node = frontier.pop()\n",
    "        if problem.is_goal(node.state):\n",
    "            return node\n",
    "        for child in expand(problem, node):\n",
    "            if not is_cycle(child):\n",
    "                frontier.add(child)\n",
    "    return failure\n",
    "\n",
    "def is_cycle(node, k=30):\n",
    "    def find_cycle(ancestor, k):\n",
    "        return (ancestor is not None and k > 0 and\n",
    "                (ancestor.state == node.state or find_cycle(ancestor.parent, k - 1)))\n",
    "    return find_cycle(node.parent, k)\n"
   ]
  },
  {
   "cell_type": "code",
   "execution_count": 147,
   "metadata": {},
   "outputs": [],
   "source": [
    "def g(n): return n.path_cost\n",
    "\n",
    "# what is below search algorithm? put your answer here:\n",
    "#Uniform-Cost Search\n",
    "def search_3(problem):\n",
    "    return search_1(problem, f=g)\n"
   ]
  },
  {
   "cell_type": "code",
   "execution_count": 148,
   "metadata": {},
   "outputs": [],
   "source": [
    "# what is below search algorithm? put your answer here: \n",
    "#Breadth-First Search \n",
    "def search_4(problem):\n",
    "    return search_1(problem, f=len)\n"
   ]
  },
  {
   "cell_type": "code",
   "execution_count": 149,
   "metadata": {},
   "outputs": [],
   "source": [
    "# what is below search algorithm? put your answer here: \n",
    "#Depth-First Search \n",
    "def search_5(problem):\n",
    "    return search_1(problem, f=lambda n: -len(n))"
   ]
  },
  {
   "cell_type": "code",
   "execution_count": 150,
   "metadata": {},
   "outputs": [],
   "source": [
    "# what is below search algorithm? put your answer here: \n",
    "#Breadth-First Search \n",
    "def search_6(problem):\n",
    "    node = Node(problem.initial)\n",
    "    if problem.is_goal(problem.initial):\n",
    "        return node\n",
    "    frontier = FIFOQueue([node])\n",
    "    reached = {problem.initial}\n",
    "    while frontier:\n",
    "        node = frontier.pop()\n",
    "        for child in expand(problem, node):\n",
    "            s = child.state\n",
    "            if problem.is_goal(s):\n",
    "                return child\n",
    "            if s not in reached:\n",
    "                reached.add(s)\n",
    "                frontier.appendleft(child)\n",
    "    return failure"
   ]
  },
  {
   "cell_type": "code",
   "execution_count": 151,
   "metadata": {},
   "outputs": [],
   "source": [
    "# what is below search algorithm? put your answer here: \n",
    "#Depth-Limited Search\n",
    "def search_7(problem, limit=10):\n",
    "    frontier = LIFOQueue([Node(problem.initial)])\n",
    "    result = failure\n",
    "    while frontier:\n",
    "        node = frontier.pop()\n",
    "        if problem.is_goal(node.state):\n",
    "            return node\n",
    "        elif len(node) >= limit:\n",
    "            result = cutoff\n",
    "        elif not is_cycle(node):\n",
    "            for child in expand(problem, node):\n",
    "                frontier.append(child)\n",
    "    return result"
   ]
  },
  {
   "cell_type": "code",
   "execution_count": 152,
   "metadata": {},
   "outputs": [],
   "source": [
    "# what is below search algorithm? put your answer here: \n",
    "#Iterative Deepening Search\n",
    "def search_8(problem):\n",
    "    for limit in range(1, sys.maxsize):\n",
    "        result = search_7(problem, limit)\n",
    "        if result != cutoff:\n",
    "            return result"
   ]
  },
  {
   "cell_type": "markdown",
   "metadata": {},
   "source": [
    "## <font color='red'>Q2: Define a subclass called \"MazeProblem\" from the Problem class we defined at the begining.</font>\n",
    "\n",
    "### Objective: \n",
    "To apply your knowledge of search problems in artificial intelligence, implement a MazeProblem class in Python. This class should extend a given abstract class Problem and apply to a simple 2D maze.\n",
    "\n",
    "### Background: \n",
    "In search problems, the objective is to find a path from an initial state to a goal state within a given environment. In this assignment, your environment is a 2D maze represented by a grid of cells. Each cell can either be open (0) or blocked (1). Your task is to navigate from a given starting point to a target location in the maze.\n",
    "\n",
    "### Task:\n",
    "\n",
    "#### Class Implementation:\n",
    "\n",
    "Define a class `MazeProblem` that inherits from the abstract class Problem.\n",
    "The constructor `__init__` should take three parameters: `initial`, `goal`, and `maze`. Here, initial is a tuple representing the starting coordinates (x, y) in the maze, goal is a tuple representing the target coordinates, and maze is a list of lists representing the 2D maze grid.\n",
    "\n",
    "Implement the method actions that returns a list of possible actions from the current state. Actions can be \"Up\", \"Down\", \"Left\", or \"Right\", and you cannot move into blocked cells or outside the maze.\n",
    "\n",
    "Implement the method result that returns the resulting state from taking an action at the current state.\n",
    "\n",
    "#### Maze Creation:\n",
    "\n",
    "Create a simple 5x5 maze as a list of lists, where 0 represents an open path, and 1 represents a blocked path.\n",
    "Define a starting point and a goal within the maze.\n",
    "\n",
    "#### Testing:\n",
    "\n",
    "Create an instance of MazeProblem with the maze, the starting point, and the goal. Using the `search_3`,`search_4`,..., `search_8` search algorithms defined above to solve the problem. Return the solutions using the given`path_states()` function. \n",
    "\n",
    "Design an experiemnt to compare their runing time. You may find python `%timeit` function useful.\n"
   ]
  },
  {
   "cell_type": "code",
   "execution_count": 153,
   "metadata": {},
   "outputs": [],
   "source": [
    "import time\n",
    "class MazeProblem(Problem):\n",
    "    \n",
    "    def __init__(self, initial, goal, maze):\n",
    "        \"\"\"Define a Maze problem. Maze is a grid of 1s and 0s, where 1s are blocked.\"\"\"\n",
    "        super().__init__(initial, goal)\n",
    "        self.maze = maze\n",
    "\n",
    "    def actions(self, state):\n",
    "        \"\"\"Return actions available from the current state.\"\"\"\n",
    "        actions = []\n",
    "        x, y = state\n",
    "        if y > 0 and self.maze[x][y-1] == 0: actions.append(\"Up\")\n",
    "        if y < len(self.maze[0]) - 1 and self.maze[x][y+1] == 0: actions.append(\"Down\")\n",
    "        if x > 0 and self.maze[x-1][y] == 0: actions.append(\"Left\")\n",
    "        if x < len(self.maze) - 1 and self.maze[x+1][y] == 0: actions.append(\"Right\")\n",
    "        return actions\n",
    "\n",
    "    def result(self, state, action):\n",
    "        \"\"\"Return the resulting state from taking an action at the current state.\"\"\"\n",
    "        x, y = state\n",
    "        if action == \"Up\": return (x, y-1)\n",
    "        if action == \"Down\": return (x, y+1)\n",
    "        if action == \"Left\": return (x-1, y)\n",
    "        if action == \"Right\": return (x+1, y)"
   ]
  },
  {
   "cell_type": "code",
   "execution_count": 154,
   "metadata": {},
   "outputs": [],
   "source": [
    "# Define a simple maze as a list of lists where 0 is open and 1 is a wall\n",
    "maze = [[0, 0, 0, 0, 1],\n",
    "        [1, 1, 0, 1, 1],\n",
    "        [0, 0, 0, 0, 0],\n",
    "        [0, 1, 1, 1, 0],\n",
    "        [0, 0, 0, 0, 0]]\n",
    "\n",
    "# Create a MazeProblem instance\n",
    "initial_state = (0, 0)  # Start at the top-left corner\n",
    "goal_state = (4, 4)     # Goal is the bottom-right corner\n",
    "maze_instance = MazeProblem(initial_state, goal_state, maze)\n"
   ]
  },
  {
   "cell_type": "code",
   "execution_count": 155,
   "metadata": {},
   "outputs": [
    {
     "name": "stdout",
     "output_type": "stream",
     "text": [
      "Uniform Cost Search: Solution found in 0.000138 seconds.\n",
      "Uniform Cost Search: Path: [(0, 0), (0, 1), (0, 2), (1, 2), (2, 2), (2, 3), (2, 4), (3, 4), (4, 4)]\n",
      "Breadth-First Search: Solution found in 0.000098 seconds.\n",
      "Breadth-First Search: Path: [(0, 0), (0, 1), (0, 2), (1, 2), (2, 2), (2, 3), (2, 4), (3, 4), (4, 4)]\n",
      "Depth-First Search: Solution found in 0.000089 seconds.\n",
      "Depth-First Search: Path: [(0, 0), (0, 1), (0, 2), (1, 2), (2, 2), (2, 1), (2, 0), (3, 0), (4, 0), (4, 1), (4, 2), (4, 3), (4, 4)]\n",
      "BFS (FIFOQueue): Solution found in 0.000066 seconds.\n",
      "BFS (FIFOQueue): Path: [(0, 0), (0, 1), (0, 2), (1, 2), (2, 2), (2, 3), (2, 4), (3, 4), (4, 4)]\n",
      "Depth-Limited Search: Solution found in 0.000079 seconds.\n",
      "Depth-Limited Search: Path: [(0, 0), (0, 1), (0, 2), (1, 2), (2, 2), (2, 3), (2, 4), (3, 4), (4, 4)]\n",
      "Iterative Deepening Search: Solution found in 0.000598 seconds.\n",
      "Iterative Deepening Search: Path: [(0, 0), (0, 1), (0, 2), (1, 2), (2, 2), (2, 3), (2, 4), (3, 4), (4, 4)]\n"
     ]
    },
    {
     "data": {
      "image/png": "[encoded data removed]",
      "text/plain": [
       "<Figure size 640x480 with 1 Axes>"
      ]
     },
     "metadata": {},
     "output_type": "display_data"
    },
    {
     "data": {
      "image/png": "[encoded data removed]",
      "text/plain": [
       "<Figure size 640x480 with 1 Axes>"
      ]
     },
     "metadata": {},
     "output_type": "display_data"
    },
    {
     "data": {
      "image/png": "[encoded data removed]",
      "text/plain": [
       "<Figure size 640x480 with 1 Axes>"
      ]
     },
     "metadata": {},
     "output_type": "display_data"
    },
    {
     "data": {
      "image/png": "[encoded data removed]",
      "text/plain": [
       "<Figure size 640x480 with 1 Axes>"
      ]
     },
     "metadata": {},
     "output_type": "display_data"
    },
    {
     "data": {
      "image/png": "[encoded data removed]",
      "text/plain": [
       "<Figure size 640x480 with 1 Axes>"
      ]
     },
     "metadata": {},
     "output_type": "display_data"
    },
    {
     "data": {
      "image/png": "[encoded data removed]",
      "text/plain": [
       "<Figure size 640x480 with 1 Axes>"
      ]
     },
     "metadata": {},
     "output_type": "display_data"
    }
   ],
   "source": [
    "# using the search_3,search_4,..., search_8 algorithms to solve the problem\n",
    "\n",
    "#put your code here\n",
    "#Search algorithms to test\n",
    "search_algorithms = [search_3, search_4, search_5, search_6, search_7, search_8]\n",
    "search_names = [\"Uniform Cost Search\", \"Breadth-First Search\", \"Depth-First Search\", \"BFS (FIFOQueue)\", \"Depth-Limited Search\", \"Iterative Deepening Search\"]\n",
    "\n",
    "\n",
    "# Running and timing the search algorithms\n",
    "\n",
    "results = {}#empty dictionary to store the outcomes\n",
    "\n",
    "#iterating through the search algorithms\n",
    "\n",
    "for i, search_func in enumerate(search_algorithms):\n",
    "    start_time = time.time()#Recording start time\n",
    "    \n",
    "    if search_func == search_7:  # defining a limit for DLS cuz it needs a limit\n",
    "        solution_node = search_func(maze_instance, limit=15) #setting the limit to 15\n",
    "    else:\n",
    "        solution_node = search_func(maze_instance)#other algorithms\n",
    "        \n",
    "    end_time = time.time()#recording the end time\n",
    "    \n",
    "    \n",
    "    if solution_node:#check if solution was found\n",
    "        solution_path = path_states(solution_node)#extracting the path\n",
    "        \n",
    "        #storing the path and the time taken by the algorithm\n",
    "        results[search_names[i]] = {\"path\": solution_path, \"time\": end_time - start_time}\n",
    "        \n",
    "        #printing the results\n",
    "        print(\"{}: Solution found in {:.6f} seconds.\".format(search_names[i], end_time - start_time))\n",
    "        print(\"{}: Path: {}\".format(search_names[i], solution_path))\n",
    "        \n",
    "    #If no solution found or there is a cutoff reached for Depth-Limited Search    \n",
    "    else:\n",
    "        #we can store None as the path and print time\n",
    "        results[search_names[i]] = {\"path\": None, \"time\": end_time - start_time}\n",
    "        print(\"{}: No solution found or cutoff in {:.6f} seconds.\".format(search_names[i], end_time - start_time))\n",
    "\n",
    "# I have also included code to visualize the path\n",
    "import numpy as np\n",
    "\n",
    "maze_np = np.array(maze) # Converting to numpy for easier manipulation\n",
    "\n",
    "def visualize_path(maze, path):\n",
    "    maze_viz = np.copy(maze) # Creating a copy to avoid modifying the original maze\n",
    "    if path:\n",
    "        for x, y in path:\n",
    "            maze_viz[x, y] = 2  # Marking the path with a different value \n",
    "    plt.imshow(maze_viz, cmap='viridis')\n",
    "    plt.title(\"Maze with Solution Path\")\n",
    "    plt.show()\n",
    "\n",
    "# Visualizing the path for our algorithms \n",
    "visualize_path(maze, results[\"Breadth-First Search\"][\"path\"])\n",
    "visualize_path(maze, results[\"Uniform Cost Search\"][\"path\"])\n",
    "visualize_path(maze, results[\"Depth-First Search\"][\"path\"])\n",
    "visualize_path(maze, results[\"BFS (FIFOQueue)\"][\"path\"])\n",
    "visualize_path(maze, results[\"Depth-Limited Search\"][\"path\"])\n",
    "visualize_path(maze, results[\"Iterative Deepening Search\"][\"path\"])\n",
    "\n",
    "#Timing using %timeit (in ipython or jupyter notebook)\n",
    "#Example:\n",
    "#%timeit search_4(maze_instance)\n",
    "\n",
    "# example solution returned by path_states(): \n",
    "# search_1 solution: [(0, 0), (0, 1), (0, 2), (1, 2), (2, 2), (2, 3), (2, 4), (3, 4), (4, 4)]\n",
    "# search_2 solution: [(0, 0), (0, 1), (0, 2), (1, 2), (2, 2), (2, 3), (2, 4), (3, 4), (4, 4)]\n",
    "# ...\n",
    "# search_8 solution: [(0, 0), (0, 1), (0, 2), (1, 2), (2, 2), (2, 3), (2, 4), (3, 4), (4, 4)]\n"
   ]
  },
  {
   "cell_type": "markdown",
   "metadata": {},
   "source": [
    "## <font color='red'>Q3: Bidirectional search.</font>\n",
    "\n",
    "Given below functions about bidirectional search, define the heuristic functions (using manhattan distance) for forward and backward search in MazeProblem.\n",
    "\n",
    "Using the `bidirectional_uniform_cost_search` and `bidirectional_astar_search algorithms` to solve the problem. Return the solutions using the given `path_states()` function.\n",
    "\n",
    "Design an experiemnt to compare the runing time of `search_3`, `search_4`,...,`search_8`, `bidirectional_uniform_cost_search`, and `bidirectional_astar_search algorithms`. You may find python `%timeit` function useful.\n"
   ]
  },
  {
   "cell_type": "code",
   "execution_count": 156,
   "metadata": {},
   "outputs": [],
   "source": [
    "def bidirectional_best_first_search(problem_f, f_f, problem_b, f_b, terminated):\n",
    "    node_f = Node(problem_f.initial)\n",
    "    node_b = Node(problem_f.goal)\n",
    "    frontier_f, reached_f = PriorityQueue([node_f], key=f_f), {node_f.state: node_f}\n",
    "    frontier_b, reached_b = PriorityQueue([node_b], key=f_b), {node_b.state: node_b}\n",
    "    solution = failure\n",
    "    while frontier_f and frontier_b and not terminated(solution, frontier_f, frontier_b):\n",
    "        def S1(node, f):\n",
    "            return str(int(f(node))) + ' ' + str(path_states(node))\n",
    "        #print('Bi:', S1(frontier_f.top(), f_f), S1(frontier_b.top(), f_b))\n",
    "        if f_f(frontier_f.top()) < f_b(frontier_b.top()):\n",
    "            solution = proceed('f', problem_f, frontier_f, reached_f, reached_b, solution)\n",
    "        else:\n",
    "            solution = proceed('b', problem_b, frontier_b, reached_b, reached_f, solution)\n",
    "    return solution\n",
    "\n",
    "def proceed(direction, problem, frontier, reached, reached2, solution):\n",
    "    node = frontier.pop()\n",
    "    for child in expand(problem, node):\n",
    "        s = child.state\n",
    "        #print('proceed', direction, S(child))\n",
    "        if s not in reached or child.path_cost < reached[s].path_cost:\n",
    "            frontier.add(child)\n",
    "            reached[s] = child\n",
    "            if s in reached2: # Frontiers collide; solution found\n",
    "                solution2 = (join_nodes(child, reached2[s]) if direction == 'f' else\n",
    "                             join_nodes(reached2[s], child))\n",
    "                #print('solution', path_states(solution2), solution2.path_cost, \n",
    "                # path_states(child), path_states(reached2[s]))\n",
    "                if solution2.path_cost < solution.path_cost:\n",
    "                    solution = solution2\n",
    "    return solution\n",
    "\n",
    "def join_nodes(nf, nb):\n",
    "    \"\"\"Join the reverse of the backward node nb to the forward node nf.\"\"\"\n",
    "    #print('join', S(nf), S(nb))\n",
    "    join = nf\n",
    "    while nb.parent is not None:\n",
    "        cost = join.path_cost + nb.path_cost - nb.parent.path_cost\n",
    "        join = Node(nb.parent.state, join, nb.action, cost)\n",
    "        nb = nb.parent\n",
    "        #print('  now join', S(join), 'with nb', S(nb), 'parent', S(nb.parent))\n",
    "    return join\n",
    "\n",
    "# Termination condition for bidirectional search\n",
    "def terminated(solution, frontier_f, frontier_b):\n",
    "    if frontier_f.empty() or frontier_b.empty():\n",
    "        return True\n",
    "    n_f, n_b = frontier_f.top(), frontier_b.top()\n",
    "    return (n_f.path_cost + n_b.path_cost) >= solution.path_cost if solution else False\n"
   ]
  },
  {
   "cell_type": "code",
   "execution_count": 157,
   "metadata": {},
   "outputs": [],
   "source": [
    "def inverse_problem(problem):\n",
    "    if isinstance(problem, CountCalls):\n",
    "        return CountCalls(inverse_problem(problem._object))\n",
    "    else:\n",
    "        inv = copy.copy(problem)\n",
    "        inv.initial, inv.goal = inv.goal, inv.initial\n",
    "        return inv\n",
    "    \n",
    "def bidirectional_uniform_cost_search(problem_f):\n",
    "    def terminated(solution, frontier_f, frontier_b):\n",
    "        n_f, n_b = frontier_f.top(), frontier_b.top()\n",
    "        return g(n_f) + g(n_b) > g(solution)\n",
    "    return bidirectional_best_first_search(problem_f, g, inverse_problem(problem_f), g, terminated)\n",
    "\n",
    "def bidirectional_astar_search(problem_f):\n",
    "    def terminated(solution, frontier_f, frontier_b):\n",
    "        nf, nb = frontier_f.top(), frontier_b.top()\n",
    "        return g(nf) + g(nb) > g(solution)\n",
    "    problem_b = inverse_problem(problem_f)\n",
    "    return bidirectional_best_first_search(problem_f, lambda n: g(n) + problem_f.h(n),\n",
    "                                           problem_b, lambda n: g(n) + problem_b.h(n), \n",
    "                                           terminated)\n",
    "   "
   ]
  },
  {
   "cell_type": "code",
   "execution_count": 158,
   "metadata": {},
   "outputs": [],
   "source": [
    "# define the heuristic functions (using manhattan distance) for forward and backward search in MazeProblem\n",
    "\n",
    "def manhattan_distance(state, goal):\n",
    "    #put your code here\n",
    "    x1, y1 = state\n",
    "    x2, y2 = goal\n",
    "    return abs(x1 - x2) + abs(y1 - y2)\n",
    "    \n",
    "def f_f(node):\n",
    "    #put your code here\n",
    "    \n",
    "    return node.path_cost + manhattan_distance(node.state, maze_instance.goal)\n",
    "\n",
    "def f_b(node):\n",
    "    #put your code here\n",
    "    \n",
    "    return node.path_cost + manhattan_distance(node.state, maze_instance.initial)\n",
    "\n",
    "    "
   ]
  },
  {
   "cell_type": "code",
   "execution_count": 159,
   "metadata": {},
   "outputs": [
    {
     "name": "stdout",
     "output_type": "stream",
     "text": [
      "Bidirectional Uniform Cost Search: Path: [(0, 0), (0, 1), (0, 2), (1, 2), (2, 2), (2, 3), (2, 4), (3, 4), (4, 4)]\n",
      "Bidirectional A* Search: Path: [(0, 0), (0, 1), (0, 2), (1, 2), (2, 2), (2, 3), (2, 4), (3, 4), (4, 4)]\n"
     ]
    }
   ],
   "source": [
    "# `bidirectional_uniform_cost_search` and `bidirectional_astar_search algorithms`\n",
    "\n",
    "#put your code here\n",
    "\n",
    "search_algorithms = [bidirectional_uniform_cost_search, bidirectional_astar_search]\n",
    "search_names = [\"Bidirectional Uniform Cost Search\", \"Bidirectional A* Search\"]\n",
    "\n",
    "# Dictionary to store the results (only paths)\n",
    "results = {}\n",
    "\n",
    "# Running the search algorithms\n",
    "for i, search_func in enumerate(search_algorithms):\n",
    "    solution_node = search_func(maze_instance)  # No limit needed\n",
    "\n",
    "    if solution_node and solution_node != failure and solution_node != cutoff:  # Checking for valid solution\n",
    "        \n",
    "        solution_path = path_states(solution_node)\n",
    "        results[search_names[i]] = {\"path\": solution_path}  # only storing the path\n",
    "        print(\"{}: Path: {}\".format(search_names[i], solution_path))\n",
    "        \n",
    "    else:\n",
    "        results[search_names[i]] = {\"path\": None}  # Storing None if no solution\n",
    "\n",
    "        \n",
    "\n",
    "\n",
    "# example solution returned by path_states(): \n",
    "# bidirectional_astar_search solution: [(0, 0), (0, 1), (0, 2), (1, 2), (2, 2), (2, 3), (2, 4), (3, 4), (4, 4)]\n",
    "# bidirectional_uniform_cost_search solution: [(0, 0), (0, 1), (0, 2), (1, 2), (2, 2), (2, 3), (2, 4), (3, 4), (4, 4)]\n",
    "\n",
    "\n"
   ]
  },
  {
   "cell_type": "code",
   "execution_count": 160,
   "metadata": {},
   "outputs": [
    {
     "name": "stdout",
     "output_type": "stream",
     "text": [
      "Uniform Cost Search: Average time over 10 runs: 0.000069 seconds\n",
      "Breadth-First Search: Average time over 10 runs: 0.000078 seconds\n",
      "Depth-First Search: Average time over 10 runs: 0.000083 seconds\n",
      "BFS (FIFOQueue): Average time over 10 runs: 0.000059 seconds\n",
      "Depth-Limited Search: Average time over 10 runs: 0.000072 seconds\n",
      "Iterative Deepening Search: Average time over 10 runs: 0.000454 seconds\n",
      "Bidirectional Uniform Cost Search: Average time over 10 runs: 0.000135 seconds\n",
      "Bidirectional A* Search: Average time over 10 runs: 0.000173 seconds\n"
     ]
    }
   ],
   "source": [
    "# Design an experiemnt to compare the runing time of search_3, search_4,...,search_8, \n",
    "# bidirectional_uniform_cost_search, and bidirectional_astar_search algorithms. \n",
    "# You may find python `timeit` function useful.\n",
    "\n",
    "#put your code here\n",
    "import timeit\n",
    "# List of search algorithms to test\n",
    "search_algorithms = [search_3, search_4, search_5, search_6, search_7, search_8,\n",
    "                     bidirectional_uniform_cost_search, bidirectional_astar_search]\n",
    "search_names = [\"Uniform Cost Search\", \"Breadth-First Search\", \"Depth-First Search\", \"BFS (FIFOQueue)\", \n",
    "                \"Depth-Limited Search\", \"Iterative Deepening Search\",\n",
    "                \"Bidirectional Uniform Cost Search\", \"Bidirectional A* Search\"]\n",
    "\n",
    "# Dictionary to store the timing results\n",
    "timing_results = {}\n",
    "\n",
    "# Number of times to run each algorithm for timing\n",
    "number_of_runs = 10  # Arbitrarily choosing 10\n",
    "\n",
    "for i, search_func in enumerate(search_algorithms):\n",
    "    if search_func == search_7:#setting the limit for depth-limited search again\n",
    "        #this time, we are using the timeit function.\n",
    "        time = timeit.timeit(lambda: search_func(maze_instance, limit=15), number=number_of_runs)\n",
    "    else:\n",
    "        #others don't need a limit\n",
    "        time = timeit.timeit(lambda: search_func(maze_instance), number=number_of_runs)\n",
    "\n",
    "    #storing the avg time in the timing_results dictionary    \n",
    "    timing_results[search_names[i]] = time / number_of_runs  # Average time over runs\n",
    "    #printing the results\n",
    "    print(\"{}: Average time over {} runs: {:.6f} seconds\".format(search_names[i], number_of_runs, timing_results[search_names[i]]))\n"
   ]
  },
  {
   "cell_type": "code",
   "execution_count": null,
   "metadata": {},
   "outputs": [],
   "source": []
  },
  {
   "cell_type": "code",
   "execution_count": null,
   "metadata": {},
   "outputs": [],
   "source": []
  }
 ],
 "metadata": {
  "kernelspec": {
   "display_name": "Python 3 (ipykernel)",
   "language": "python",
   "name": "python3"
  },
  "language_info": {
   "codemirror_mode": {
    "name": "ipython",
    "version": 3
   },
   "file_extension": ".py",
   "mimetype": "text/x-python",
   "name": "python",
   "nbconvert_exporter": "python",
   "pygments_lexer": "ipython3",
   "version": "3.11.5"
  }
 },
 "nbformat": 4,
 "nbformat_minor": 2
}
